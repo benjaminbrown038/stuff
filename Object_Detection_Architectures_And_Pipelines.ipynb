{
  "nbformat": 4,
  "nbformat_minor": 0,
  "metadata": {
    "colab": {
      "provenance": [],
      "authorship_tag": "ABX9TyMyyLj1aDsXBiTjcCFoelWp",
      "include_colab_link": true
    },
    "kernelspec": {
      "name": "python3",
      "display_name": "Python 3"
    },
    "language_info": {
      "name": "python"
    }
  },
  "cells": [
    {
      "cell_type": "markdown",
      "metadata": {
        "id": "view-in-github",
        "colab_type": "text"
      },
      "source": [
        "<a href=\"https://colab.research.google.com/github/benjaminbrown038/stuff/blob/main/Object_Detection_Architectures_And_Pipelines.ipynb\" target=\"_parent\"><img src=\"https://colab.research.google.com/assets/colab-badge.svg\" alt=\"Open In Colab\"/></a>"
      ]
    },
    {
      "cell_type": "markdown",
      "source": [
        "# Object Detection\n",
        "\n",
        "### Two Stage Detectors\n",
        "\n",
        "##### R CNN\n",
        "\n",
        "##### Fast R CNN\n",
        "\n",
        "##### Faster R CNN\n",
        "\n",
        "\n",
        "\n",
        "### Single Stage Detectors\n",
        "\n",
        "##### YOLO\n",
        "\n",
        "##### Single Shot MultiBox Detector\n",
        "\n",
        "##### RetinaNet\n",
        "\n",
        "### Transformer Based Detectors\n",
        "\n",
        "##### DETR\n",
        "\n",
        "##### Deformable DETR"
      ],
      "metadata": {
        "id": "rtCa6DiuTSE5"
      }
    },
    {
      "cell_type": "markdown",
      "source": [],
      "metadata": {
        "id": "I2OVfVDCTSH9"
      }
    },
    {
      "cell_type": "markdown",
      "source": [],
      "metadata": {
        "id": "jIxSx7A7TSKk"
      }
    },
    {
      "cell_type": "markdown",
      "source": [],
      "metadata": {
        "id": "wql028tpTSNe"
      }
    },
    {
      "cell_type": "markdown",
      "source": [],
      "metadata": {
        "id": "MEamEZLMTSRI"
      }
    },
    {
      "cell_type": "code",
      "source": [],
      "metadata": {
        "id": "KBb11glgTSW2"
      },
      "execution_count": null,
      "outputs": []
    },
    {
      "cell_type": "markdown",
      "source": [],
      "metadata": {
        "id": "HhdlOKypTSck"
      }
    },
    {
      "cell_type": "code",
      "source": [],
      "metadata": {
        "id": "m8OLnLcQTShx"
      },
      "execution_count": null,
      "outputs": []
    },
    {
      "cell_type": "markdown",
      "source": [],
      "metadata": {
        "id": "XbTO4sxKTSoR"
      }
    },
    {
      "cell_type": "code",
      "source": [],
      "metadata": {
        "id": "4ab4kfFaTStP"
      },
      "execution_count": null,
      "outputs": []
    },
    {
      "cell_type": "markdown",
      "source": [],
      "metadata": {
        "id": "b8tjU18_TSzO"
      }
    },
    {
      "cell_type": "code",
      "source": [],
      "metadata": {
        "id": "wJxWLgQJTS4L"
      },
      "execution_count": null,
      "outputs": []
    }
  ]
}